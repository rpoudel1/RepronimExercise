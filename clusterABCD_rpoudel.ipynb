{
 "cells": [
  {
   "cell_type": "markdown",
   "metadata": {},
   "source": [
    "# Create a hierarchical clustering plot of your chosen features\n",
    "\n",
    "In a previous exercise, you created a subset of the ABCD 3.0 release that included 1,000 randomly chosen subjects and 20 hand selected features.\n",
    "\n",
    "After this notebook is run you should be able to:\n",
    "1. summarize the datatypes of the features that you selected.\n",
    "1. inspect correlations between your selected features.\n",
    "1. install and import a new python library.\n",
    "1. measure the similarity between two data records that contain both continuous and categorical data.\n",
    "1. visualize this similarity using a hierarchical clustering plot"
   ]
  },
  {
   "cell_type": "markdown",
   "metadata": {},
   "source": [
    "### Import all libraries\n",
    "By convention all libraries being used are read in at the top of a notebook/script."
   ]
  },
  {
   "cell_type": "code",
   "execution_count": 15,
   "metadata": {},
   "outputs": [],
   "source": [
    "import matplotlib.pyplot as plt  # fine tune control over visualizations\n",
    "import numpy as np  # to manipulate data/generate random numbers\n",
    "import pandas as pd  # to read/manipulate/write data from files\n",
    "import seaborn as sns  # static visualizations\n",
    "\n",
    "from scipy.cluster.hierarchy import cophenet, linkage, dendrogram  # to perform cluster analysis\n",
    "from scipy.spatial.distance import pdist, squareform  # to calculate distances and convert between condensed and square forms of a distance matrix\n",
    "from sklearn.preprocessing import MinMaxScaler  # To standardize our data before clustering"
   ]
  },
  {
   "cell_type": "markdown",
   "metadata": {},
   "source": [
    "Let's recover the subset data that you saved in a previous exercise. You saved that file with something like\n",
    "```\n",
    "subset_df.to_csv(\"my_dataset.tsv\", sep=\"\\t\", index=None)\n",
    "```\n",
    "Can you use the pandas `pd.read_csv` function to load your subset data into the dataframe `subset_df`?\n",
    "<details>\n",
    "<summary>Hint</summary>\n",
    "Try using `pd.read_csv()` with two of the arguments that you used to save the file.\n",
    "</details>"
   ]
  },
  {
   "cell_type": "code",
   "execution_count": 21,
   "metadata": {},
   "outputs": [],
   "source": [
    "# Insert code to load \"my_dataset.tsv\" as a pandas dataframe into the variable `subset_df`.\n",
    "subset_df= pd.read_csv('/home/jovyan/my_dataset.tsv', sep='\\t')"
   ]
  },
  {
   "cell_type": "markdown",
   "metadata": {},
   "source": [
    "Let's look at the first five rows of our data just to remind ourselves of what's in there."
   ]
  },
  {
   "cell_type": "code",
   "execution_count": 22,
   "metadata": {},
   "outputs": [
    {
     "data": {
      "text/html": [
       "<div>\n",
       "<style scoped>\n",
       "    .dataframe tbody tr th:only-of-type {\n",
       "        vertical-align: middle;\n",
       "    }\n",
       "\n",
       "    .dataframe tbody tr th {\n",
       "        vertical-align: top;\n",
       "    }\n",
       "\n",
       "    .dataframe thead th {\n",
       "        text-align: right;\n",
       "    }\n",
       "</style>\n",
       "<table border=\"1\" class=\"dataframe\">\n",
       "  <thead>\n",
       "    <tr style=\"text-align: right;\">\n",
       "      <th></th>\n",
       "      <th>subjectkey</th>\n",
       "      <th>interview_date</th>\n",
       "      <th>interview_age</th>\n",
       "      <th>sex</th>\n",
       "      <th>site_id_l</th>\n",
       "      <th>anthroheightcalc</th>\n",
       "      <th>anthroweightcalc</th>\n",
       "      <th>ehi_y_ss_scoreb</th>\n",
       "      <th>neighborhood_crime_y</th>\n",
       "      <th>snellen_aid_y</th>\n",
       "      <th>...</th>\n",
       "      <th>ksads_25_33_t</th>\n",
       "      <th>ksads_13_929_t</th>\n",
       "      <th>pps_y_ss_severity_score</th>\n",
       "      <th>prosocial_q2_y</th>\n",
       "      <th>prosocial_q3_y</th>\n",
       "      <th>fit_ss_sleepperiod_minutes</th>\n",
       "      <th>fit_ss_avg_hr_deep</th>\n",
       "      <th>smri_vol_cdk_total</th>\n",
       "      <th>smri_vol_scs_amygdalalh</th>\n",
       "      <th>mri_info_manufacturer</th>\n",
       "    </tr>\n",
       "  </thead>\n",
       "  <tbody>\n",
       "    <tr>\n",
       "      <th>0</th>\n",
       "      <td>NDAR_INVCHLG4G6P</td>\n",
       "      <td>09/22/2017</td>\n",
       "      <td>120</td>\n",
       "      <td>F</td>\n",
       "      <td>site08</td>\n",
       "      <td>54.0</td>\n",
       "      <td>59.0</td>\n",
       "      <td>1</td>\n",
       "      <td>5.0</td>\n",
       "      <td>0.0</td>\n",
       "      <td>...</td>\n",
       "      <td>555</td>\n",
       "      <td>555</td>\n",
       "      <td>0.0</td>\n",
       "      <td>2.0</td>\n",
       "      <td>2.0</td>\n",
       "      <td>527.5</td>\n",
       "      <td>65.0</td>\n",
       "      <td>550238.0</td>\n",
       "      <td>1216.1</td>\n",
       "      <td>GE MEDICAL SYSTEMS</td>\n",
       "    </tr>\n",
       "    <tr>\n",
       "      <th>1</th>\n",
       "      <td>NDAR_INVB7PW7GZA</td>\n",
       "      <td>05/27/2017</td>\n",
       "      <td>125</td>\n",
       "      <td>F</td>\n",
       "      <td>site19</td>\n",
       "      <td>53.0</td>\n",
       "      <td>68.0</td>\n",
       "      <td>1</td>\n",
       "      <td>3.0</td>\n",
       "      <td>1.0</td>\n",
       "      <td>...</td>\n",
       "      <td>555</td>\n",
       "      <td>555</td>\n",
       "      <td>0.0</td>\n",
       "      <td>1.0</td>\n",
       "      <td>2.0</td>\n",
       "      <td>386.5</td>\n",
       "      <td>71.0</td>\n",
       "      <td>561102.0</td>\n",
       "      <td>1609.0</td>\n",
       "      <td>Philips Medical Systems</td>\n",
       "    </tr>\n",
       "    <tr>\n",
       "      <th>2</th>\n",
       "      <td>NDAR_INV13LFMTL6</td>\n",
       "      <td>10/20/2017</td>\n",
       "      <td>124</td>\n",
       "      <td>F</td>\n",
       "      <td>site08</td>\n",
       "      <td>56.7</td>\n",
       "      <td>74.5</td>\n",
       "      <td>2</td>\n",
       "      <td>5.0</td>\n",
       "      <td>0.0</td>\n",
       "      <td>...</td>\n",
       "      <td>555</td>\n",
       "      <td>555</td>\n",
       "      <td>0.0</td>\n",
       "      <td>1.0</td>\n",
       "      <td>1.0</td>\n",
       "      <td>505.0</td>\n",
       "      <td>70.0</td>\n",
       "      <td>683164.0</td>\n",
       "      <td>1448.3</td>\n",
       "      <td>GE MEDICAL SYSTEMS</td>\n",
       "    </tr>\n",
       "    <tr>\n",
       "      <th>3</th>\n",
       "      <td>NDAR_INVAKLPG0GB</td>\n",
       "      <td>08/24/2017</td>\n",
       "      <td>118</td>\n",
       "      <td>F</td>\n",
       "      <td>site19</td>\n",
       "      <td>54.5</td>\n",
       "      <td>67.0</td>\n",
       "      <td>1</td>\n",
       "      <td>5.0</td>\n",
       "      <td>0.0</td>\n",
       "      <td>...</td>\n",
       "      <td>555</td>\n",
       "      <td>555</td>\n",
       "      <td>6.0</td>\n",
       "      <td>1.0</td>\n",
       "      <td>2.0</td>\n",
       "      <td>433.5</td>\n",
       "      <td>63.0</td>\n",
       "      <td>529799.0</td>\n",
       "      <td>1586.0</td>\n",
       "      <td>Philips Medical Systems</td>\n",
       "    </tr>\n",
       "    <tr>\n",
       "      <th>4</th>\n",
       "      <td>NDAR_INV2BW6G83G</td>\n",
       "      <td>06/06/2017</td>\n",
       "      <td>131</td>\n",
       "      <td>F</td>\n",
       "      <td>site08</td>\n",
       "      <td>55.8</td>\n",
       "      <td>65.5</td>\n",
       "      <td>1</td>\n",
       "      <td>4.0</td>\n",
       "      <td>0.0</td>\n",
       "      <td>...</td>\n",
       "      <td>555</td>\n",
       "      <td>555</td>\n",
       "      <td>0.0</td>\n",
       "      <td>2.0</td>\n",
       "      <td>2.0</td>\n",
       "      <td>381.5</td>\n",
       "      <td>66.0</td>\n",
       "      <td>542857.0</td>\n",
       "      <td>1177.6</td>\n",
       "      <td>GE MEDICAL SYSTEMS</td>\n",
       "    </tr>\n",
       "  </tbody>\n",
       "</table>\n",
       "<p>5 rows × 22 columns</p>\n",
       "</div>"
      ],
      "text/plain": [
       "         subjectkey interview_date  interview_age sex site_id_l  \\\n",
       "0  NDAR_INVCHLG4G6P     09/22/2017            120   F    site08   \n",
       "1  NDAR_INVB7PW7GZA     05/27/2017            125   F    site19   \n",
       "2  NDAR_INV13LFMTL6     10/20/2017            124   F    site08   \n",
       "3  NDAR_INVAKLPG0GB     08/24/2017            118   F    site19   \n",
       "4  NDAR_INV2BW6G83G     06/06/2017            131   F    site08   \n",
       "\n",
       "   anthroheightcalc  anthroweightcalc  ehi_y_ss_scoreb  neighborhood_crime_y  \\\n",
       "0              54.0              59.0                1                   5.0   \n",
       "1              53.0              68.0                1                   3.0   \n",
       "2              56.7              74.5                2                   5.0   \n",
       "3              54.5              67.0                1                   5.0   \n",
       "4              55.8              65.5                1                   4.0   \n",
       "\n",
       "   snellen_aid_y  ...  ksads_25_33_t  ksads_13_929_t  pps_y_ss_severity_score  \\\n",
       "0            0.0  ...            555             555                      0.0   \n",
       "1            1.0  ...            555             555                      0.0   \n",
       "2            0.0  ...            555             555                      0.0   \n",
       "3            0.0  ...            555             555                      6.0   \n",
       "4            0.0  ...            555             555                      0.0   \n",
       "\n",
       "   prosocial_q2_y  prosocial_q3_y  fit_ss_sleepperiod_minutes  \\\n",
       "0             2.0             2.0                       527.5   \n",
       "1             1.0             2.0                       386.5   \n",
       "2             1.0             1.0                       505.0   \n",
       "3             1.0             2.0                       433.5   \n",
       "4             2.0             2.0                       381.5   \n",
       "\n",
       "   fit_ss_avg_hr_deep  smri_vol_cdk_total  smri_vol_scs_amygdalalh  \\\n",
       "0                65.0            550238.0                   1216.1   \n",
       "1                71.0            561102.0                   1609.0   \n",
       "2                70.0            683164.0                   1448.3   \n",
       "3                63.0            529799.0                   1586.0   \n",
       "4                66.0            542857.0                   1177.6   \n",
       "\n",
       "     mri_info_manufacturer  \n",
       "0       GE MEDICAL SYSTEMS  \n",
       "1  Philips Medical Systems  \n",
       "2       GE MEDICAL SYSTEMS  \n",
       "3  Philips Medical Systems  \n",
       "4       GE MEDICAL SYSTEMS  \n",
       "\n",
       "[5 rows x 22 columns]"
      ]
     },
     "execution_count": 22,
     "metadata": {},
     "output_type": "execute_result"
    }
   ],
   "source": [
    "subset_df.head()"
   ]
  },
  {
   "cell_type": "markdown",
   "metadata": {},
   "source": [
    "We see that \"subjectkey\" is one of the columns of our dataframe. We should make this column the \"index\" of the dataframe since each row corresponds to a unique subject ID."
   ]
  },
  {
   "cell_type": "code",
   "execution_count": 23,
   "metadata": {},
   "outputs": [],
   "source": [
    "subset_df.set_index(\"subjectkey\", inplace=True)"
   ]
  },
  {
   "cell_type": "markdown",
   "metadata": {},
   "source": [
    "Your `subset_df` dataframe should have a mix of continuous and categorical data.\n",
    "Furthermore, the continuous data might be subdivided into integer and float datatypes.\n",
    "Use the `info()` method of your pandas dataframe to inspect the datatypes of your\n",
    "previously selected features."
   ]
  },
  {
   "cell_type": "code",
   "execution_count": 24,
   "metadata": {},
   "outputs": [
    {
     "name": "stdout",
     "output_type": "stream",
     "text": [
      "<class 'pandas.core.frame.DataFrame'>\n",
      "Index: 1000 entries, NDAR_INVCHLG4G6P to NDAR_INV0AUBJJJ4\n",
      "Data columns (total 21 columns):\n",
      " #   Column                      Non-Null Count  Dtype  \n",
      "---  ------                      --------------  -----  \n",
      " 0   interview_date              1000 non-null   object \n",
      " 1   interview_age               1000 non-null   int64  \n",
      " 2   sex                         1000 non-null   object \n",
      " 3   site_id_l                   1000 non-null   object \n",
      " 4   anthroheightcalc            1000 non-null   float64\n",
      " 5   anthroweightcalc            1000 non-null   float64\n",
      " 6   ehi_y_ss_scoreb             1000 non-null   int64  \n",
      " 7   neighborhood_crime_y        1000 non-null   float64\n",
      " 8   snellen_aid_y               1000 non-null   float64\n",
      " 9   ksads_1_2_t                 1000 non-null   int64  \n",
      " 10  ksads_8_29_t                1000 non-null   int64  \n",
      " 11  ksads_25_33_t               1000 non-null   int64  \n",
      " 12  ksads_13_929_t              1000 non-null   int64  \n",
      " 13  pps_y_ss_severity_score     1000 non-null   float64\n",
      " 14  prosocial_q2_y              1000 non-null   float64\n",
      " 15  prosocial_q3_y              1000 non-null   float64\n",
      " 16  fit_ss_sleepperiod_minutes  1000 non-null   float64\n",
      " 17  fit_ss_avg_hr_deep          1000 non-null   float64\n",
      " 18  smri_vol_cdk_total          1000 non-null   float64\n",
      " 19  smri_vol_scs_amygdalalh     1000 non-null   float64\n",
      " 20  mri_info_manufacturer       1000 non-null   object \n",
      "dtypes: float64(11), int64(6), object(4)\n",
      "memory usage: 171.9+ KB\n"
     ]
    }
   ],
   "source": [
    "subset_df.info()"
   ]
  },
  {
   "cell_type": "markdown",
   "metadata": {},
   "source": [
    "Your data should be different because you chose different features in the previous exercise. Look at the penultimate line. In this example, we have\n",
    "- nine (9) float type features\n",
    "- six (6) integer type features\n",
    "- four (4) \"object\" type features\n",
    "\n",
    "Those \"object\" type features are strings that encode categorical data.\n",
    "\n",
    "### Converting \"objects\" to \"datetime\" datatypes\n",
    "\n",
    "But wait, \"interview date\" isn't simply categorical data. That column contains strings that represent dates and dates can be treated as different types of data depending on the context. For example, you could treat dates as nominal categorical data if you are only concerned with the day of the week of the interview date. Or you could treat dates as interval data; the starting point is arbitrary but the units are fixed, so that \"12-24\" is not the double of \"6-12\".\n",
    "\n",
    "How you decide to use date data in your project is up to you, but in general it is good practice to let pandas know about date/time datatypes in your dataframe. Can you use the [`pd.to_datetime()`](https://pandas.pydata.org/pandas-docs/stable/reference/api/pandas.to_datetime.html#pandas-to-datetime) function to convert the \"interview_date\" column to a `datetime64` datatype?\n",
    "\n",
    "<details>\n",
    "<summary>Hint</summary>\n",
    "You can modify columns in-place by using the pattern\n",
    "\n",
    "`df[\"column_I_want_to_change\"] = coversion_function(df[\"column_I_want_to_change\"])`\n",
    "</details>"
   ]
  },
  {
   "cell_type": "code",
   "execution_count": 40,
   "metadata": {},
   "outputs": [],
   "source": [
    "# Insert code to convert the \"interview_date\" column to a datetime64 datetype.\n",
    "subset_df[\"interview_date\"] = pd.to_datetime(subset_df[\"interview_date\"])"
   ]
  },
  {
   "cell_type": "markdown",
   "metadata": {},
   "source": [
    "Now let's look at the first few rows again. You can see that the \"interview_date\" column entries changed format but the underlying content is preserved."
   ]
  },
  {
   "cell_type": "code",
   "execution_count": 41,
   "metadata": {},
   "outputs": [
    {
     "data": {
      "text/html": [
       "<div>\n",
       "<style scoped>\n",
       "    .dataframe tbody tr th:only-of-type {\n",
       "        vertical-align: middle;\n",
       "    }\n",
       "\n",
       "    .dataframe tbody tr th {\n",
       "        vertical-align: top;\n",
       "    }\n",
       "\n",
       "    .dataframe thead th {\n",
       "        text-align: right;\n",
       "    }\n",
       "</style>\n",
       "<table border=\"1\" class=\"dataframe\">\n",
       "  <thead>\n",
       "    <tr style=\"text-align: right;\">\n",
       "      <th></th>\n",
       "      <th>interview_date</th>\n",
       "      <th>interview_age</th>\n",
       "      <th>sex</th>\n",
       "      <th>site_id_l</th>\n",
       "      <th>anthroheightcalc</th>\n",
       "      <th>anthroweightcalc</th>\n",
       "      <th>ehi_y_ss_scoreb</th>\n",
       "      <th>neighborhood_crime_y</th>\n",
       "      <th>snellen_aid_y</th>\n",
       "      <th>ksads_1_2_t</th>\n",
       "      <th>...</th>\n",
       "      <th>ksads_25_33_t</th>\n",
       "      <th>ksads_13_929_t</th>\n",
       "      <th>pps_y_ss_severity_score</th>\n",
       "      <th>prosocial_q2_y</th>\n",
       "      <th>prosocial_q3_y</th>\n",
       "      <th>fit_ss_sleepperiod_minutes</th>\n",
       "      <th>fit_ss_avg_hr_deep</th>\n",
       "      <th>smri_vol_cdk_total</th>\n",
       "      <th>smri_vol_scs_amygdalalh</th>\n",
       "      <th>mri_info_manufacturer</th>\n",
       "    </tr>\n",
       "    <tr>\n",
       "      <th>subjectkey</th>\n",
       "      <th></th>\n",
       "      <th></th>\n",
       "      <th></th>\n",
       "      <th></th>\n",
       "      <th></th>\n",
       "      <th></th>\n",
       "      <th></th>\n",
       "      <th></th>\n",
       "      <th></th>\n",
       "      <th></th>\n",
       "      <th></th>\n",
       "      <th></th>\n",
       "      <th></th>\n",
       "      <th></th>\n",
       "      <th></th>\n",
       "      <th></th>\n",
       "      <th></th>\n",
       "      <th></th>\n",
       "      <th></th>\n",
       "      <th></th>\n",
       "      <th></th>\n",
       "    </tr>\n",
       "  </thead>\n",
       "  <tbody>\n",
       "    <tr>\n",
       "      <th>NDAR_INVCHLG4G6P</th>\n",
       "      <td>2017-09-22</td>\n",
       "      <td>120</td>\n",
       "      <td>F</td>\n",
       "      <td>site08</td>\n",
       "      <td>54.0</td>\n",
       "      <td>59.0</td>\n",
       "      <td>1</td>\n",
       "      <td>5.0</td>\n",
       "      <td>0.0</td>\n",
       "      <td>0</td>\n",
       "      <td>...</td>\n",
       "      <td>555</td>\n",
       "      <td>555</td>\n",
       "      <td>0.0</td>\n",
       "      <td>2.0</td>\n",
       "      <td>2.0</td>\n",
       "      <td>527.5</td>\n",
       "      <td>65.0</td>\n",
       "      <td>550238.0</td>\n",
       "      <td>1216.1</td>\n",
       "      <td>GE MEDICAL SYSTEMS</td>\n",
       "    </tr>\n",
       "    <tr>\n",
       "      <th>NDAR_INVB7PW7GZA</th>\n",
       "      <td>2017-05-27</td>\n",
       "      <td>125</td>\n",
       "      <td>F</td>\n",
       "      <td>site19</td>\n",
       "      <td>53.0</td>\n",
       "      <td>68.0</td>\n",
       "      <td>1</td>\n",
       "      <td>3.0</td>\n",
       "      <td>1.0</td>\n",
       "      <td>1</td>\n",
       "      <td>...</td>\n",
       "      <td>555</td>\n",
       "      <td>555</td>\n",
       "      <td>0.0</td>\n",
       "      <td>1.0</td>\n",
       "      <td>2.0</td>\n",
       "      <td>386.5</td>\n",
       "      <td>71.0</td>\n",
       "      <td>561102.0</td>\n",
       "      <td>1609.0</td>\n",
       "      <td>Philips Medical Systems</td>\n",
       "    </tr>\n",
       "    <tr>\n",
       "      <th>NDAR_INV13LFMTL6</th>\n",
       "      <td>2017-10-20</td>\n",
       "      <td>124</td>\n",
       "      <td>F</td>\n",
       "      <td>site08</td>\n",
       "      <td>56.7</td>\n",
       "      <td>74.5</td>\n",
       "      <td>2</td>\n",
       "      <td>5.0</td>\n",
       "      <td>0.0</td>\n",
       "      <td>0</td>\n",
       "      <td>...</td>\n",
       "      <td>555</td>\n",
       "      <td>555</td>\n",
       "      <td>0.0</td>\n",
       "      <td>1.0</td>\n",
       "      <td>1.0</td>\n",
       "      <td>505.0</td>\n",
       "      <td>70.0</td>\n",
       "      <td>683164.0</td>\n",
       "      <td>1448.3</td>\n",
       "      <td>GE MEDICAL SYSTEMS</td>\n",
       "    </tr>\n",
       "    <tr>\n",
       "      <th>NDAR_INVAKLPG0GB</th>\n",
       "      <td>2017-08-24</td>\n",
       "      <td>118</td>\n",
       "      <td>F</td>\n",
       "      <td>site19</td>\n",
       "      <td>54.5</td>\n",
       "      <td>67.0</td>\n",
       "      <td>1</td>\n",
       "      <td>5.0</td>\n",
       "      <td>0.0</td>\n",
       "      <td>0</td>\n",
       "      <td>...</td>\n",
       "      <td>555</td>\n",
       "      <td>555</td>\n",
       "      <td>6.0</td>\n",
       "      <td>1.0</td>\n",
       "      <td>2.0</td>\n",
       "      <td>433.5</td>\n",
       "      <td>63.0</td>\n",
       "      <td>529799.0</td>\n",
       "      <td>1586.0</td>\n",
       "      <td>Philips Medical Systems</td>\n",
       "    </tr>\n",
       "    <tr>\n",
       "      <th>NDAR_INV2BW6G83G</th>\n",
       "      <td>2017-06-06</td>\n",
       "      <td>131</td>\n",
       "      <td>F</td>\n",
       "      <td>site08</td>\n",
       "      <td>55.8</td>\n",
       "      <td>65.5</td>\n",
       "      <td>1</td>\n",
       "      <td>4.0</td>\n",
       "      <td>0.0</td>\n",
       "      <td>0</td>\n",
       "      <td>...</td>\n",
       "      <td>555</td>\n",
       "      <td>555</td>\n",
       "      <td>0.0</td>\n",
       "      <td>2.0</td>\n",
       "      <td>2.0</td>\n",
       "      <td>381.5</td>\n",
       "      <td>66.0</td>\n",
       "      <td>542857.0</td>\n",
       "      <td>1177.6</td>\n",
       "      <td>GE MEDICAL SYSTEMS</td>\n",
       "    </tr>\n",
       "  </tbody>\n",
       "</table>\n",
       "<p>5 rows × 21 columns</p>\n",
       "</div>"
      ],
      "text/plain": [
       "                 interview_date  interview_age sex site_id_l  \\\n",
       "subjectkey                                                     \n",
       "NDAR_INVCHLG4G6P     2017-09-22            120   F    site08   \n",
       "NDAR_INVB7PW7GZA     2017-05-27            125   F    site19   \n",
       "NDAR_INV13LFMTL6     2017-10-20            124   F    site08   \n",
       "NDAR_INVAKLPG0GB     2017-08-24            118   F    site19   \n",
       "NDAR_INV2BW6G83G     2017-06-06            131   F    site08   \n",
       "\n",
       "                  anthroheightcalc  anthroweightcalc  ehi_y_ss_scoreb  \\\n",
       "subjectkey                                                              \n",
       "NDAR_INVCHLG4G6P              54.0              59.0                1   \n",
       "NDAR_INVB7PW7GZA              53.0              68.0                1   \n",
       "NDAR_INV13LFMTL6              56.7              74.5                2   \n",
       "NDAR_INVAKLPG0GB              54.5              67.0                1   \n",
       "NDAR_INV2BW6G83G              55.8              65.5                1   \n",
       "\n",
       "                  neighborhood_crime_y  snellen_aid_y  ksads_1_2_t  ...  \\\n",
       "subjectkey                                                          ...   \n",
       "NDAR_INVCHLG4G6P                   5.0            0.0            0  ...   \n",
       "NDAR_INVB7PW7GZA                   3.0            1.0            1  ...   \n",
       "NDAR_INV13LFMTL6                   5.0            0.0            0  ...   \n",
       "NDAR_INVAKLPG0GB                   5.0            0.0            0  ...   \n",
       "NDAR_INV2BW6G83G                   4.0            0.0            0  ...   \n",
       "\n",
       "                  ksads_25_33_t  ksads_13_929_t  pps_y_ss_severity_score  \\\n",
       "subjectkey                                                                 \n",
       "NDAR_INVCHLG4G6P            555             555                      0.0   \n",
       "NDAR_INVB7PW7GZA            555             555                      0.0   \n",
       "NDAR_INV13LFMTL6            555             555                      0.0   \n",
       "NDAR_INVAKLPG0GB            555             555                      6.0   \n",
       "NDAR_INV2BW6G83G            555             555                      0.0   \n",
       "\n",
       "                  prosocial_q2_y  prosocial_q3_y  fit_ss_sleepperiod_minutes  \\\n",
       "subjectkey                                                                     \n",
       "NDAR_INVCHLG4G6P             2.0             2.0                       527.5   \n",
       "NDAR_INVB7PW7GZA             1.0             2.0                       386.5   \n",
       "NDAR_INV13LFMTL6             1.0             1.0                       505.0   \n",
       "NDAR_INVAKLPG0GB             1.0             2.0                       433.5   \n",
       "NDAR_INV2BW6G83G             2.0             2.0                       381.5   \n",
       "\n",
       "                  fit_ss_avg_hr_deep  smri_vol_cdk_total  \\\n",
       "subjectkey                                                 \n",
       "NDAR_INVCHLG4G6P                65.0            550238.0   \n",
       "NDAR_INVB7PW7GZA                71.0            561102.0   \n",
       "NDAR_INV13LFMTL6                70.0            683164.0   \n",
       "NDAR_INVAKLPG0GB                63.0            529799.0   \n",
       "NDAR_INV2BW6G83G                66.0            542857.0   \n",
       "\n",
       "                  smri_vol_scs_amygdalalh    mri_info_manufacturer  \n",
       "subjectkey                                                          \n",
       "NDAR_INVCHLG4G6P                   1216.1       GE MEDICAL SYSTEMS  \n",
       "NDAR_INVB7PW7GZA                   1609.0  Philips Medical Systems  \n",
       "NDAR_INV13LFMTL6                   1448.3       GE MEDICAL SYSTEMS  \n",
       "NDAR_INVAKLPG0GB                   1586.0  Philips Medical Systems  \n",
       "NDAR_INV2BW6G83G                   1177.6       GE MEDICAL SYSTEMS  \n",
       "\n",
       "[5 rows x 21 columns]"
      ]
     },
     "execution_count": 41,
     "metadata": {},
     "output_type": "execute_result"
    }
   ],
   "source": [
    "subset_df.head()"
   ]
  },
  {
   "cell_type": "markdown",
   "metadata": {},
   "source": [
    "And you can use `subset_df.info()` to confirm that \"interview_date\" now has the type `datetime64`."
   ]
  },
  {
   "cell_type": "code",
   "execution_count": 42,
   "metadata": {},
   "outputs": [
    {
     "name": "stdout",
     "output_type": "stream",
     "text": [
      "<class 'pandas.core.frame.DataFrame'>\n",
      "Index: 1000 entries, NDAR_INVCHLG4G6P to NDAR_INV0AUBJJJ4\n",
      "Data columns (total 21 columns):\n",
      " #   Column                      Non-Null Count  Dtype         \n",
      "---  ------                      --------------  -----         \n",
      " 0   interview_date              1000 non-null   datetime64[ns]\n",
      " 1   interview_age               1000 non-null   int64         \n",
      " 2   sex                         1000 non-null   object        \n",
      " 3   site_id_l                   1000 non-null   object        \n",
      " 4   anthroheightcalc            1000 non-null   float64       \n",
      " 5   anthroweightcalc            1000 non-null   float64       \n",
      " 6   ehi_y_ss_scoreb             1000 non-null   int64         \n",
      " 7   neighborhood_crime_y        1000 non-null   float64       \n",
      " 8   snellen_aid_y               1000 non-null   float64       \n",
      " 9   ksads_1_2_t                 1000 non-null   int64         \n",
      " 10  ksads_8_29_t                1000 non-null   int64         \n",
      " 11  ksads_25_33_t               1000 non-null   int64         \n",
      " 12  ksads_13_929_t              1000 non-null   int64         \n",
      " 13  pps_y_ss_severity_score     1000 non-null   float64       \n",
      " 14  prosocial_q2_y              1000 non-null   float64       \n",
      " 15  prosocial_q3_y              1000 non-null   float64       \n",
      " 16  fit_ss_sleepperiod_minutes  1000 non-null   float64       \n",
      " 17  fit_ss_avg_hr_deep          1000 non-null   float64       \n",
      " 18  smri_vol_cdk_total          1000 non-null   float64       \n",
      " 19  smri_vol_scs_amygdalalh     1000 non-null   float64       \n",
      " 20  mri_info_manufacturer       1000 non-null   object        \n",
      "dtypes: datetime64[ns](1), float64(11), int64(6), object(3)\n",
      "memory usage: 171.9+ KB\n"
     ]
    }
   ],
   "source": [
    "subset_df.info()"
   ]
  },
  {
   "cell_type": "markdown",
   "metadata": {},
   "source": [
    "## Examining the correlations between different features\n",
    "\n",
    "Now that we've prepared our subset dataframe, we'd like to understand which features are similar and which are dissimilar. We may wish to group certain features together and apply different rules to these separate groups rather that to the individual features. In machine learning, this process is called clustering and there is an expansive literature on the subject that is well beyond the scope of this notebook.\n",
    "\n",
    "For our purposes, we will compute the similarity between different features and then visualize using a hierarchical clustering plot. We will call the similarity between two features (or two subjects for that matter) a \"distance.\" When computing distances, it is important to standardize the data to avoid dependence on the datatypes or the choice of measurement units. We will attempt to standardize our data so that the maximum distance between subjects for any given feature is 1.0 and the minimum distance is 0.0.\n",
    "\n",
    "### Categorical features\n",
    "\n",
    "We will start by separating our subset data into different datatypes.\n",
    "\n",
    "To begin with, let's separate out our categorical data. We can do this using the [`select_dtypes()`](https://pandas.pydata.org/pandas-docs/stable/reference/api/pandas.DataFrame.select_dtypes.html#pandas-dataframe-select-dtypes) method of our `subset_df` dataframe."
   ]
  },
  {
   "cell_type": "code",
   "execution_count": 43,
   "metadata": {},
   "outputs": [
    {
     "name": "stdout",
     "output_type": "stream",
     "text": [
      "<class 'pandas.core.frame.DataFrame'>\n",
      "Index: 1000 entries, NDAR_INVCHLG4G6P to NDAR_INV0AUBJJJ4\n",
      "Data columns (total 3 columns):\n",
      " #   Column                 Non-Null Count  Dtype \n",
      "---  ------                 --------------  ----- \n",
      " 0   sex                    1000 non-null   object\n",
      " 1   site_id_l              1000 non-null   object\n",
      " 2   mri_info_manufacturer  1000 non-null   object\n",
      "dtypes: object(3)\n",
      "memory usage: 31.2+ KB\n"
     ]
    }
   ],
   "source": [
    "cat_df = subset_df.select_dtypes(include=[\"object\"])\n",
    "cat_df.info()"
   ]
  },
  {
   "cell_type": "code",
   "execution_count": 45,
   "metadata": {},
   "outputs": [
    {
     "data": {
      "text/html": [
       "<div>\n",
       "<style scoped>\n",
       "    .dataframe tbody tr th:only-of-type {\n",
       "        vertical-align: middle;\n",
       "    }\n",
       "\n",
       "    .dataframe tbody tr th {\n",
       "        vertical-align: top;\n",
       "    }\n",
       "\n",
       "    .dataframe thead th {\n",
       "        text-align: right;\n",
       "    }\n",
       "</style>\n",
       "<table border=\"1\" class=\"dataframe\">\n",
       "  <thead>\n",
       "    <tr style=\"text-align: right;\">\n",
       "      <th></th>\n",
       "      <th>sex</th>\n",
       "      <th>site_id_l</th>\n",
       "      <th>mri_info_manufacturer</th>\n",
       "    </tr>\n",
       "    <tr>\n",
       "      <th>subjectkey</th>\n",
       "      <th></th>\n",
       "      <th></th>\n",
       "      <th></th>\n",
       "    </tr>\n",
       "  </thead>\n",
       "  <tbody>\n",
       "    <tr>\n",
       "      <th>NDAR_INVCHLG4G6P</th>\n",
       "      <td>F</td>\n",
       "      <td>site08</td>\n",
       "      <td>GE MEDICAL SYSTEMS</td>\n",
       "    </tr>\n",
       "    <tr>\n",
       "      <th>NDAR_INVB7PW7GZA</th>\n",
       "      <td>F</td>\n",
       "      <td>site19</td>\n",
       "      <td>Philips Medical Systems</td>\n",
       "    </tr>\n",
       "    <tr>\n",
       "      <th>NDAR_INV13LFMTL6</th>\n",
       "      <td>F</td>\n",
       "      <td>site08</td>\n",
       "      <td>GE MEDICAL SYSTEMS</td>\n",
       "    </tr>\n",
       "    <tr>\n",
       "      <th>NDAR_INVAKLPG0GB</th>\n",
       "      <td>F</td>\n",
       "      <td>site19</td>\n",
       "      <td>Philips Medical Systems</td>\n",
       "    </tr>\n",
       "    <tr>\n",
       "      <th>NDAR_INV2BW6G83G</th>\n",
       "      <td>F</td>\n",
       "      <td>site08</td>\n",
       "      <td>GE MEDICAL SYSTEMS</td>\n",
       "    </tr>\n",
       "  </tbody>\n",
       "</table>\n",
       "</div>"
      ],
      "text/plain": [
       "                 sex site_id_l    mri_info_manufacturer\n",
       "subjectkey                                             \n",
       "NDAR_INVCHLG4G6P   F    site08       GE MEDICAL SYSTEMS\n",
       "NDAR_INVB7PW7GZA   F    site19  Philips Medical Systems\n",
       "NDAR_INV13LFMTL6   F    site08       GE MEDICAL SYSTEMS\n",
       "NDAR_INVAKLPG0GB   F    site19  Philips Medical Systems\n",
       "NDAR_INV2BW6G83G   F    site08       GE MEDICAL SYSTEMS"
      ]
     },
     "execution_count": 45,
     "metadata": {},
     "output_type": "execute_result"
    }
   ],
   "source": [
    "cat_df.head()"
   ]
  },
  {
   "cell_type": "markdown",
   "metadata": {},
   "source": [
    "We can convert the text-based categorical features into a larger binary feature space using the [`pd.get_dummies()`](https://pandas.pydata.org/pandas-docs/stable/reference/api/pandas.get_dummies.html#pandas-get-dummies) function. This converts the categorical variables into indicator variables. We will use the `drop_first` parameter to get $k-1$ indicator variables out of $k$ categorical variables."
   ]
  },
  {
   "cell_type": "code",
   "execution_count": 46,
   "metadata": {},
   "outputs": [],
   "source": [
    "cat_features = pd.get_dummies(cat_df, drop_first=True)"
   ]
  },
  {
   "cell_type": "code",
   "execution_count": 47,
   "metadata": {},
   "outputs": [
    {
     "data": {
      "text/html": [
       "<div>\n",
       "<style scoped>\n",
       "    .dataframe tbody tr th:only-of-type {\n",
       "        vertical-align: middle;\n",
       "    }\n",
       "\n",
       "    .dataframe tbody tr th {\n",
       "        vertical-align: top;\n",
       "    }\n",
       "\n",
       "    .dataframe thead th {\n",
       "        text-align: right;\n",
       "    }\n",
       "</style>\n",
       "<table border=\"1\" class=\"dataframe\">\n",
       "  <thead>\n",
       "    <tr style=\"text-align: right;\">\n",
       "      <th></th>\n",
       "      <th>sex_M</th>\n",
       "      <th>site_id_l_site10</th>\n",
       "      <th>site_id_l_site19</th>\n",
       "      <th>mri_info_manufacturer_Philips Medical Systems</th>\n",
       "    </tr>\n",
       "    <tr>\n",
       "      <th>subjectkey</th>\n",
       "      <th></th>\n",
       "      <th></th>\n",
       "      <th></th>\n",
       "      <th></th>\n",
       "    </tr>\n",
       "  </thead>\n",
       "  <tbody>\n",
       "    <tr>\n",
       "      <th>NDAR_INVCHLG4G6P</th>\n",
       "      <td>0</td>\n",
       "      <td>0</td>\n",
       "      <td>0</td>\n",
       "      <td>0</td>\n",
       "    </tr>\n",
       "    <tr>\n",
       "      <th>NDAR_INVB7PW7GZA</th>\n",
       "      <td>0</td>\n",
       "      <td>0</td>\n",
       "      <td>1</td>\n",
       "      <td>1</td>\n",
       "    </tr>\n",
       "    <tr>\n",
       "      <th>NDAR_INV13LFMTL6</th>\n",
       "      <td>0</td>\n",
       "      <td>0</td>\n",
       "      <td>0</td>\n",
       "      <td>0</td>\n",
       "    </tr>\n",
       "    <tr>\n",
       "      <th>NDAR_INVAKLPG0GB</th>\n",
       "      <td>0</td>\n",
       "      <td>0</td>\n",
       "      <td>1</td>\n",
       "      <td>1</td>\n",
       "    </tr>\n",
       "    <tr>\n",
       "      <th>NDAR_INV2BW6G83G</th>\n",
       "      <td>0</td>\n",
       "      <td>0</td>\n",
       "      <td>0</td>\n",
       "      <td>0</td>\n",
       "    </tr>\n",
       "    <tr>\n",
       "      <th>...</th>\n",
       "      <td>...</td>\n",
       "      <td>...</td>\n",
       "      <td>...</td>\n",
       "      <td>...</td>\n",
       "    </tr>\n",
       "    <tr>\n",
       "      <th>NDAR_INVC0M1UAY5</th>\n",
       "      <td>0</td>\n",
       "      <td>1</td>\n",
       "      <td>0</td>\n",
       "      <td>0</td>\n",
       "    </tr>\n",
       "    <tr>\n",
       "      <th>NDAR_INV05LGG3GZ</th>\n",
       "      <td>1</td>\n",
       "      <td>0</td>\n",
       "      <td>0</td>\n",
       "      <td>0</td>\n",
       "    </tr>\n",
       "    <tr>\n",
       "      <th>NDAR_INVAKLPG0GB</th>\n",
       "      <td>0</td>\n",
       "      <td>0</td>\n",
       "      <td>1</td>\n",
       "      <td>1</td>\n",
       "    </tr>\n",
       "    <tr>\n",
       "      <th>NDAR_INV8P7ZETEX</th>\n",
       "      <td>0</td>\n",
       "      <td>0</td>\n",
       "      <td>1</td>\n",
       "      <td>1</td>\n",
       "    </tr>\n",
       "    <tr>\n",
       "      <th>NDAR_INV0AUBJJJ4</th>\n",
       "      <td>0</td>\n",
       "      <td>0</td>\n",
       "      <td>1</td>\n",
       "      <td>1</td>\n",
       "    </tr>\n",
       "  </tbody>\n",
       "</table>\n",
       "<p>1000 rows × 4 columns</p>\n",
       "</div>"
      ],
      "text/plain": [
       "                  sex_M  site_id_l_site10  site_id_l_site19  \\\n",
       "subjectkey                                                    \n",
       "NDAR_INVCHLG4G6P      0                 0                 0   \n",
       "NDAR_INVB7PW7GZA      0                 0                 1   \n",
       "NDAR_INV13LFMTL6      0                 0                 0   \n",
       "NDAR_INVAKLPG0GB      0                 0                 1   \n",
       "NDAR_INV2BW6G83G      0                 0                 0   \n",
       "...                 ...               ...               ...   \n",
       "NDAR_INVC0M1UAY5      0                 1                 0   \n",
       "NDAR_INV05LGG3GZ      1                 0                 0   \n",
       "NDAR_INVAKLPG0GB      0                 0                 1   \n",
       "NDAR_INV8P7ZETEX      0                 0                 1   \n",
       "NDAR_INV0AUBJJJ4      0                 0                 1   \n",
       "\n",
       "                  mri_info_manufacturer_Philips Medical Systems  \n",
       "subjectkey                                                       \n",
       "NDAR_INVCHLG4G6P                                              0  \n",
       "NDAR_INVB7PW7GZA                                              1  \n",
       "NDAR_INV13LFMTL6                                              0  \n",
       "NDAR_INVAKLPG0GB                                              1  \n",
       "NDAR_INV2BW6G83G                                              0  \n",
       "...                                                         ...  \n",
       "NDAR_INVC0M1UAY5                                              0  \n",
       "NDAR_INV05LGG3GZ                                              0  \n",
       "NDAR_INVAKLPG0GB                                              1  \n",
       "NDAR_INV8P7ZETEX                                              1  \n",
       "NDAR_INV0AUBJJJ4                                              1  \n",
       "\n",
       "[1000 rows x 4 columns]"
      ]
     },
     "execution_count": 47,
     "metadata": {},
     "output_type": "execute_result"
    }
   ],
   "source": [
    "cat_features"
   ]
  },
  {
   "cell_type": "markdown",
   "metadata": {},
   "source": [
    "### Numerical and ordinal features\n",
    "\n",
    "Now we're going to select the numerical and ordinal features together. There is extensive debate in the mathematics and statistics communities on how best to treat ordinal data (e.g. treating it as qualitative or quantitative). The best answer is always ***it depends***. For pedagogical simplicity, we are going to combine the numerical and ordinal features and scale them to the range [0, 1].\n",
    "\n",
    "Use the same `select_dtypes()` method to create a dataframe with the numerical and ordinal features. Store this dataframe in the variable `num_df`.\n",
    "\n",
    "<details>\n",
    "<summary>Hint</summary>\n",
    "You can supply a list to `select_dtypes()` to select both the \"int64\" and \"float64\" types.\n",
    "</details>"
   ]
  },
  {
   "cell_type": "code",
   "execution_count": 52,
   "metadata": {},
   "outputs": [],
   "source": [
    "# Insert code to create `num_df` from only the numerical and ordinal features of `subset_df`.\n",
    "num_df = subset_df.select_dtypes(include=[\"int64\", \"float64\"])"
   ]
  },
  {
   "cell_type": "markdown",
   "metadata": {},
   "source": [
    "Use the `info()` method to confirm that we selected only the features we want."
   ]
  },
  {
   "cell_type": "code",
   "execution_count": 53,
   "metadata": {},
   "outputs": [
    {
     "name": "stdout",
     "output_type": "stream",
     "text": [
      "<class 'pandas.core.frame.DataFrame'>\n",
      "Index: 1000 entries, NDAR_INVCHLG4G6P to NDAR_INV0AUBJJJ4\n",
      "Data columns (total 17 columns):\n",
      " #   Column                      Non-Null Count  Dtype  \n",
      "---  ------                      --------------  -----  \n",
      " 0   interview_age               1000 non-null   int64  \n",
      " 1   anthroheightcalc            1000 non-null   float64\n",
      " 2   anthroweightcalc            1000 non-null   float64\n",
      " 3   ehi_y_ss_scoreb             1000 non-null   int64  \n",
      " 4   neighborhood_crime_y        1000 non-null   float64\n",
      " 5   snellen_aid_y               1000 non-null   float64\n",
      " 6   ksads_1_2_t                 1000 non-null   int64  \n",
      " 7   ksads_8_29_t                1000 non-null   int64  \n",
      " 8   ksads_25_33_t               1000 non-null   int64  \n",
      " 9   ksads_13_929_t              1000 non-null   int64  \n",
      " 10  pps_y_ss_severity_score     1000 non-null   float64\n",
      " 11  prosocial_q2_y              1000 non-null   float64\n",
      " 12  prosocial_q3_y              1000 non-null   float64\n",
      " 13  fit_ss_sleepperiod_minutes  1000 non-null   float64\n",
      " 14  fit_ss_avg_hr_deep          1000 non-null   float64\n",
      " 15  smri_vol_cdk_total          1000 non-null   float64\n",
      " 16  smri_vol_scs_amygdalalh     1000 non-null   float64\n",
      "dtypes: float64(11), int64(6)\n",
      "memory usage: 140.6+ KB\n"
     ]
    }
   ],
   "source": [
    "num_df.info()"
   ]
  },
  {
   "cell_type": "markdown",
   "metadata": {},
   "source": [
    "The estimable [scikit-learn library](https://sklearn.org/) provides many common utility functions for scaling and standardizing data. We will use the [`MinMaxScaler`](https://sklearn.org/modules/generated/sklearn.preprocessing.MinMaxScaler.html#sklearn.preprocessing.MinMaxScaler) to scale our numerical features to lie between zero and one."
   ]
  },
  {
   "cell_type": "code",
   "execution_count": 54,
   "metadata": {},
   "outputs": [],
   "source": [
    "# Scale standardisation of numerical values\n",
    "minmax = MinMaxScaler(feature_range=(0, 1))\n",
    "\n",
    "num_features = pd.DataFrame(\n",
    "    minmax.fit_transform(num_df),\n",
    "    index=num_df.index,\n",
    "    columns=num_df.columns\n",
    ")"
   ]
  },
  {
   "cell_type": "markdown",
   "metadata": {},
   "source": [
    "And then concatenate our categorical and numerical features into a new dataframe called `df_scaled`."
   ]
  },
  {
   "cell_type": "code",
   "execution_count": 55,
   "metadata": {},
   "outputs": [
    {
     "name": "stdout",
     "output_type": "stream",
     "text": [
      "Data min, max: (0.0, 1.0000000000000002)\n"
     ]
    }
   ],
   "source": [
    "df_scaled = pd.concat([num_features, cat_features], axis=\"columns\")\n",
    "\n",
    "# Confirm that all data lies between zero and one.\n",
    "print(f\"Data min, max: {df_scaled.min().min(), df_scaled.max().max()}\")"
   ]
  },
  {
   "cell_type": "markdown",
   "metadata": {},
   "source": [
    "### Choosing an appropriate distance metric\n",
    "\n",
    "Finally, we need to provide some notion of distance between different points in our dataset. ***Different distances are appropriate for different datatypes.*** For example, it is common to use the Euclidean distance or Manhattan distance for numerical datatypes and dice distance for categorical variables. For those, you could rely on the scipy function [`scipy.spatial.distance.pdist`](https://docs.scipy.org/doc/scipy/reference/generated/scipy.spatial.distance.pdist.html#scipy.spatial.distance.pdist) to generate the distance matrices.\n",
    "\n",
    "Since we have a mix of categorical and numerical features, we will use the [Gower's distance](https://www.jstor.org/stable/2528823?seq=1), which was proposed in 1971 as a measure of dissimilarity with mixed types of variables.\n",
    "\n",
    "We could write our own Python function to compute the Gower's distance, but one should always ask ***\"is there a pre-existing package that will do this for me?\"*** And of course, the answer is YES. There is a package called `gower` that will compute the Gower's distance matrix for us. It isn't available on the jupyterhub by default (and you might not have it on your local system).\n",
    "\n",
    "But we can install software without ever leaving the jupyter notebook. You can execute Terminal commands in the notebook cells by prepending an exclamation point/bang(!) to the beginning of the command. Let's install the gower package."
   ]
  },
  {
   "cell_type": "code",
   "execution_count": 56,
   "metadata": {},
   "outputs": [
    {
     "name": "stdout",
     "output_type": "stream",
     "text": [
      "Requirement already satisfied: gower in /opt/conda/lib/python3.8/site-packages (0.0.5)\n",
      "Requirement already satisfied: scipy in /opt/conda/lib/python3.8/site-packages (from gower) (1.5.3)\n",
      "Requirement already satisfied: numpy in /opt/conda/lib/python3.8/site-packages (from gower) (1.19.4)\n",
      "Requirement already satisfied: numpy in /opt/conda/lib/python3.8/site-packages (from gower) (1.19.4)\n"
     ]
    }
   ],
   "source": [
    "!pip install gower"
   ]
  },
  {
   "cell_type": "markdown",
   "metadata": {},
   "source": [
    "Now that we have `gower` installed, let's import it."
   ]
  },
  {
   "cell_type": "code",
   "execution_count": 57,
   "metadata": {},
   "outputs": [],
   "source": [
    "import gower"
   ]
  },
  {
   "cell_type": "markdown",
   "metadata": {},
   "source": [
    "Great! Let's compute that distance matrix. One commonly seen convention is to name the distance matrix `Y` and, later on, name the hierarchical clustering data `Z`.\n",
    "\n",
    "In a typical use case, one wishes to cluster individuals into different groups and we would do this by passing in the feature matrix stored in `df_scaled`. However, because we are clustering features, not subjects, we will pass in the transpose of the feature matrix. You can get the transpose of `df_scaled` using the `.T` attribute."
   ]
  },
  {
   "cell_type": "code",
   "execution_count": 58,
   "metadata": {},
   "outputs": [],
   "source": [
    "# Get the Gower's distance matrix\n",
    "Y = gower.gower_matrix(df_scaled.T).astype(np.float64)"
   ]
  },
  {
   "cell_type": "markdown",
   "metadata": {},
   "source": [
    "Let's quickly examine the structure of the distance matrix using matplotlib's `plt.matshow()` function. We can see that there is apparent banding in the distance matrix."
   ]
  },
  {
   "cell_type": "code",
   "execution_count": 59,
   "metadata": {},
   "outputs": [
    {
     "data": {
      "text/plain": [
       "<matplotlib.image.AxesImage at 0x7f473d4024f0>"
      ]
     },
     "execution_count": 59,
     "metadata": {},
     "output_type": "execute_result"
    },
    {
     "data": {
      "image/png": "[encoded data removed]",
      "text/plain": [
       "<Figure size 288x288 with 1 Axes>"
      ]
     },
     "metadata": {
      "needs_background": "light"
     },
     "output_type": "display_data"
    }
   ],
   "source": [
    "plt.matshow(Y)"
   ]
  },
  {
   "cell_type": "markdown",
   "metadata": {},
   "source": [
    "There's a better way to visualize clustering in this distance matrix. The scipy library has a function, `scipy.cluster.hierarchy.linkage` which will perform hierarchical/agglomerative clustering given a distance matrix. It requires the distance matrix to be in \"condensed\" form and scipy also gives us a handy convenience function to covert from our \"uncondensed\" distance matrix to a condensed array."
   ]
  },
  {
   "cell_type": "code",
   "execution_count": 60,
   "metadata": {},
   "outputs": [],
   "source": [
    "# That result was in \"uncondensed form\". Let's use a scipy convenience\n",
    "# function to convert it into a condensed array form. This stores only\n",
    "# the upper triangular part since `Y` is a symmetric matrix.\n",
    "Y = squareform(Y)"
   ]
  },
  {
   "cell_type": "markdown",
   "metadata": {},
   "source": [
    "Now we can use `linkage` to perform the hierarchical clustering of our feature space."
   ]
  },
  {
   "cell_type": "code",
   "execution_count": 61,
   "metadata": {},
   "outputs": [],
   "source": [
    "Z = linkage(Y, method=\"complete\", optimal_ordering=True)"
   ]
  },
  {
   "cell_type": "markdown",
   "metadata": {},
   "source": [
    "$Z$ is a $(p - 1) \\times 4$ matrix, where $p$ is the number of features in our scaled dataset. Here's how to interpret $Z$:\n",
    "- At the $i$-th iteration, the sub-clusters with indices $Z[i, 0]$ and $Z[i, 1]$ combine to form a new cluster.\n",
    "- If $Z[i, 0]$ or $Z[i, 1]$ is less than $p$, then that index refers to one of the original features\n",
    "- The distance between clusters $Z[i, 0]$ and $Z[i, 1]$ is stored in $Z[i, 2]$.\n",
    "- The fourth value $Z[i, 3]$ contains the number of original observations in the newly formed cluster."
   ]
  },
  {
   "cell_type": "markdown",
   "metadata": {},
   "source": [
    "That sounds like pretty complicated output, but we can use scipy's `dendrogram` function to visualize the heirarchical clustering using a [dendrogram](https://en.wikipedia.org/wiki/Dendrogram). The height of each bracket is representative of the distance between features or subclusters."
   ]
  },
  {
   "cell_type": "code",
   "execution_count": 62,
   "metadata": {},
   "outputs": [
    {
     "data": {
      "image/png": "[encoded data removed]",
      "text/plain": [
       "<Figure size 1440x504 with 1 Axes>"
      ]
     },
     "metadata": {
      "needs_background": "light"
     },
     "output_type": "display_data"
    }
   ],
   "source": [
    "fig, ax = plt.subplots(1, 1, figsize=(20, 7))\n",
    "dn = dendrogram(\n",
    "    Z,\n",
    "    ax=ax,\n",
    "    orientation=\"top\",\n",
    "    distance_sort='descending',\n",
    "    show_leaf_counts=True,\n",
    ")\n",
    "\n",
    "# `dn[\"ivl\"] stores a list of the feature indices in the order they appear on the x axis.\n",
    "# Let's label the x-axis using the actual feature names rather than the indices\n",
    "_ = ax.set_xticklabels(\n",
    "    [list(df_scaled.columns)[int(i)] for i in dn[\"ivl\"]],\n",
    "    rotation=90,\n",
    "    fontsize=16,\n",
    ")\n",
    "\n",
    "yticks = np.linspace(0.0, 0.8, 5)\n",
    "_ = ax.set_yticks(yticks)\n",
    "_ = ax.set_yticklabels([round(y, 1) for y in yticks], fontsize=16)"
   ]
  },
  {
   "cell_type": "markdown",
   "metadata": {},
   "source": [
    "There's a lot going on here. One thing we notice immediately is that there are two pairs of KSADS features with zero distance between them. That is, the length of the vertical lines connecting [\"ksads_13_929_t\", \"ksads_25_33_t] and [\"ksads_1_2_t\", \"ksads_8_29_t] are negligible. We can verify this using seaborn's `pairplot` function."
   ]
  },
  {
   "cell_type": "code",
   "execution_count": 63,
   "metadata": {},
   "outputs": [
    {
     "data": {
      "image/png": "[encoded data removed]",
      "text/plain": [
       "<Figure size 720x720 with 20 Axes>"
      ]
     },
     "metadata": {
      "needs_background": "light"
     },
     "output_type": "display_data"
    }
   ],
   "source": [
    "_ = sns.pairplot(\n",
    "    subset_df,\n",
    "    vars=[\"ksads_25_33_t\", \"ksads_13_929_t\", \"ksads_1_2_t\", \"ksads_8_29_t\"]\n",
    ")"
   ]
  },
  {
   "cell_type": "markdown",
   "metadata": {},
   "source": [
    "And we can strengthen our intuition about this perfect correlation by viewing the data structure on NDA:\n",
    "\n",
    "https://nda.nih.gov/data_structure.html?short_name=abcd_ksad501\n",
    "\n",
    "For your own data subset, use the dendrogram to identify highly correlated features. Find those features using the NDA data query and address their correlation in the text box below. It is prepopulated with an example for this subset of features but you should write your own using your selected features."
   ]
  },
  {
   "cell_type": "markdown",
   "metadata": {},
   "source": [
    "> The two correlated pairs are:\n",
    "> \n",
    "> - \"ksads_25_33_t\": Symptom - Failure to speak in social situations, Past\n",
    "> - \"ksads_13_929_t\": Diagnosis - Anorexia Nervosa (F50.02) Binge eating/purging subtype, PRESENT\n",
    "> \n",
    "> and\n",
    "> \n",
    "> - \"ksads_1_2_t\": Symptom - Depressed Mood, Past\n",
    "> - \"ksads_8_29_t\": Symptom - Fear of Social Situations Present\n",
    "> \n",
    "> It seems reasonable to expect high comorbidity in these two pairs of features.\n",
    "> \n",
    "> Additionally, as expected, we see that the one-hot-encoded features for Site ID are well correlated.\n",
    "> \n",
    "> Lastly, we see that the \"mri_info_manufacturer_Philips Medical Systems\" indicator feature is first clustered with the indicator variable for \"site17\". This makes sense since the Philips Medical Systems scanners are only located at three sites in our subset, and most of the subjects scanned on them came from \"site17\" (see histogram below).\n",
    "\n",
    "***Insert your own explanation below this line.***\n",
    "\n",
    "\n",
    "\n",
    "\n",
    "\n"
   ]
  },
  {
   "cell_type": "code",
   "execution_count": 64,
   "metadata": {},
   "outputs": [
    {
     "data": {
      "image/png": "[encoded data removed]",
      "text/plain": [
       "<Figure size 432x288 with 1 Axes>"
      ]
     },
     "metadata": {
      "needs_background": "light"
     },
     "output_type": "display_data"
    }
   ],
   "source": [
    "_ = subset_df[subset_df[\"mri_info_manufacturer\"] == \"Philips Medical Systems\"][\"site_id_l\"].hist()"
   ]
  },
  {
   "cell_type": "markdown",
   "metadata": {},
   "source": [
    "## With great power...\n",
    "\n",
    "Lastly, you can see there are a lot of choices here:\n",
    "- How do you treat ordinal data?\n",
    "- How do you scale or standardize your data?\n",
    "- Which distance metric is most appropriate?\n",
    "- What linkage method should you use for hierarchical clustering?\n",
    "Scipy makes it very easy to do the clustering, but it's up to you to make the choices and understand the implications. \n",
    "\n",
    "One thing you can do to check for internal consistency of your choice of metric is check the [Cophenetic Correlation Coefficient](https://en.wikipedia.org/wiki/Cophenetic_correlation) of your clustering with help of the [`cophenet()`](http://docs.scipy.org/doc/scipy/reference/generated/scipy.cluster.hierarchy.cophenet.html) function. This compares the actual pairwise distances of your data to those computed by the hierarchical clustering. The closer the value is to 1, the better the clustering preserves the original distances.\n",
    "\n",
    "In our case, since `Z` was computed using the Gower distance, which combined the Manhattan (or \"cityblock\") distance for numerical values and the dice distance for categorical values, we will calculate the cophenetic correlation coefficient between our clustering distances and the \"cityblock\" distance using the [`pdist()`](https://docs.scipy.org/doc/scipy/reference/generated/scipy.spatial.distance.pdist.html#scipy.spatial.distance.pdist) function."
   ]
  },
  {
   "cell_type": "code",
   "execution_count": 65,
   "metadata": {},
   "outputs": [
    {
     "name": "stdout",
     "output_type": "stream",
     "text": [
      "Cophenetic correlation coefficient: 0.8632228783538238\n"
     ]
    }
   ],
   "source": [
    "c, coph_dists = cophenet(Z, pdist(df_scaled.T.values, \"cityblock\"))\n",
    "print(f\"Cophenetic correlation coefficient: {c}\")"
   ]
  },
  {
   "cell_type": "markdown",
   "metadata": {},
   "source": [
    "And we see that the clustering distances are pretty close to the pairwise Manhattan distances.\n",
    "\n",
    "Compute the cophenetic correlation coefficient for your choice of linkage method and distance metric."
   ]
  }
 ],
 "metadata": {
  "jupytext": {
   "formats": "ipynb,md",
   "text_representation": {
    "extension": ".md",
    "format_name": "markdown",
    "format_version": "1.2",
    "jupytext_version": "1.7.1"
   }
  },
  "kernelspec": {
   "display_name": "Python 3",
   "language": "python",
   "name": "python3"
  },
  "language_info": {
   "codemirror_mode": {
    "name": "ipython",
    "version": 3
   },
   "file_extension": ".py",
   "mimetype": "text/x-python",
   "name": "python",
   "nbconvert_exporter": "python",
   "pygments_lexer": "ipython3",
   "version": "3.8.6"
  }
 },
 "nbformat": 4,
 "nbformat_minor": 4
}
